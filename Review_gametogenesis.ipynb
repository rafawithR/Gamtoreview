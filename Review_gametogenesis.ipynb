{
  "nbformat": 4,
  "nbformat_minor": 0,
  "metadata": {
    "colab": {
      "provenance": [],
      "mount_file_id": "1u-ZHcVUqs8vcatH9mlK1uxtMH7ZPh5X5",
      "authorship_tag": "ABX9TyNw+AOXLEY2SSY+hYEVwk4m",
      "include_colab_link": true
    },
    "kernelspec": {
      "name": "python3",
      "display_name": "Python 3"
    },
    "language_info": {
      "name": "python"
    }
  },
  "cells": [
    {
      "cell_type": "markdown",
      "metadata": {
        "id": "view-in-github",
        "colab_type": "text"
      },
      "source": [
        "<a href=\"https://colab.research.google.com/github/rafawithR/Gamtoreview/blob/main/Review_gametogenesis.ipynb\" target=\"_parent\"><img src=\"https://colab.research.google.com/assets/colab-badge.svg\" alt=\"Open In Colab\"/></a>"
      ]
    },
    {
      "cell_type": "markdown",
      "source": [
        "Supplementar Material - Sexual and Gametogenesis on Sea\n",
        "Anemones: a Systematic Scope Review \n",
        "\n",
        "(Spreadsheet investigation)\n",
        "\n",
        "Rafael A. Brandão  06/02/2023\n",
        "\n",
        "\n",
        "# All data investigation was done using the gametrev2.csv spreadsheet"
      ],
      "metadata": {
        "id": "HWM0Dpg-X38b"
      }
    },
    {
      "cell_type": "code",
      "source": [
        "import pandas as pd\n",
        "import matplotlib as mpl\n",
        "import seaborn as sbn"
      ],
      "metadata": {
        "id": "4_p1_GsAdZh7"
      },
      "execution_count": 1,
      "outputs": []
    },
    {
      "cell_type": "code",
      "source": [
        "planilha = pd.read_csv('gametrev2.csv', on_bad_lines= 'skip', sep=';')\n",
        "planilha.head()"
      ],
      "metadata": {
        "colab": {
          "base_uri": "https://localhost:8080/",
          "height": 577
        },
        "id": "_Gu-6S7Kfbep",
        "outputId": "0bfe00c4-b4a4-4e1e-e321-2120a347e6ed"
      },
      "execution_count": 2,
      "outputs": [
        {
          "output_type": "execute_result",
          "data": {
            "text/plain": [
              "                                               title    year        country  \\\n",
              "0  Effects of flow-habitat on body size and repro...  1994.0         Sweden   \n",
              "1  An Ultrastructural Investigation of Spermiogen...  1972.0  United States   \n",
              "2  Trioecy, a Unique Breeding Strategy in the Sea...  2014.0         Israel   \n",
              "3  Seasonal Gametogenesis of Host Sea Anemone (En...  2015.0          China   \n",
              "4  Genetic subdivision in the subtidal, clonal se...  1996.0      Australia   \n",
              "\n",
              "                         realm                    province          lat  \\\n",
              "0  Temperate Northern Atlantic      Northern European Seas    58°23.7'N   \n",
              "1                          NaN                         NaN          NaN   \n",
              "2  Temperate Northern Atlantic           Mediterranean Sea          NaN   \n",
              "3         Central Indo-Pacific             South China Sea  22°24 '7\" N   \n",
              "4        Temperate Australasia  Southeast Australian Shelf       34°30S   \n",
              "\n",
              "          long       family                species    depth  ... field_work  \\\n",
              "0    11°32.4'E  Metridiidae       Metridium senile  shallow  ...        Yes   \n",
              "1          NaN   Actiniidae   Bunodosoma cavernata  shallow  ...         No   \n",
              "2          NaN  Aiptasiidae      Aiptasia diaphana  shallow  ...        Yes   \n",
              "3  114°23'11\"E   Actiniidae  Entacmaea quadricolor  shallow  ...        Yes   \n",
              "4      150°55E  Sagartiidae   Anthothoe albocincta  shallow  ...        Yes   \n",
              "\n",
              "  periodicity        femepeak            malepeak largoocy fixation hermaphro  \\\n",
              "0     Monthly  June/September                 NaN      NaN      NaN        No   \n",
              "1         NaN             NaN                 NaN      NaN      NaN        No   \n",
              "2       Other             NaN                 NaN      NaN    slide       Yes   \n",
              "3     Monthly             NaN  September /October      NaN      NaN        No   \n",
              "4     Monthly     March/April         March/April    100.0    slide        No   \n",
              "\n",
              "   spermclass          type_spermclass environment_influence  \n",
              "0          No                      NaN                   NaN  \n",
              "1          No                      NaN                   NaN  \n",
              "2         Yes      Kruger and Schleyer                   NaN  \n",
              "3         Yes  Scott and Harrison 2009           Temperature  \n",
              "4          No                      NaN                   NaN  \n",
              "\n",
              "[5 rows x 23 columns]"
            ],
            "text/html": [
              "\n",
              "  <div id=\"df-24e214ba-7b1b-4ce4-a8b9-18608f9054ba\">\n",
              "    <div class=\"colab-df-container\">\n",
              "      <div>\n",
              "<style scoped>\n",
              "    .dataframe tbody tr th:only-of-type {\n",
              "        vertical-align: middle;\n",
              "    }\n",
              "\n",
              "    .dataframe tbody tr th {\n",
              "        vertical-align: top;\n",
              "    }\n",
              "\n",
              "    .dataframe thead th {\n",
              "        text-align: right;\n",
              "    }\n",
              "</style>\n",
              "<table border=\"1\" class=\"dataframe\">\n",
              "  <thead>\n",
              "    <tr style=\"text-align: right;\">\n",
              "      <th></th>\n",
              "      <th>title</th>\n",
              "      <th>year</th>\n",
              "      <th>country</th>\n",
              "      <th>realm</th>\n",
              "      <th>province</th>\n",
              "      <th>lat</th>\n",
              "      <th>long</th>\n",
              "      <th>family</th>\n",
              "      <th>species</th>\n",
              "      <th>depth</th>\n",
              "      <th>...</th>\n",
              "      <th>field_work</th>\n",
              "      <th>periodicity</th>\n",
              "      <th>femepeak</th>\n",
              "      <th>malepeak</th>\n",
              "      <th>largoocy</th>\n",
              "      <th>fixation</th>\n",
              "      <th>hermaphro</th>\n",
              "      <th>spermclass</th>\n",
              "      <th>type_spermclass</th>\n",
              "      <th>environment_influence</th>\n",
              "    </tr>\n",
              "  </thead>\n",
              "  <tbody>\n",
              "    <tr>\n",
              "      <th>0</th>\n",
              "      <td>Effects of flow-habitat on body size and repro...</td>\n",
              "      <td>1994.0</td>\n",
              "      <td>Sweden</td>\n",
              "      <td>Temperate Northern Atlantic</td>\n",
              "      <td>Northern European Seas</td>\n",
              "      <td>58°23.7'N</td>\n",
              "      <td>11°32.4'E</td>\n",
              "      <td>Metridiidae</td>\n",
              "      <td>Metridium senile</td>\n",
              "      <td>shallow</td>\n",
              "      <td>...</td>\n",
              "      <td>Yes</td>\n",
              "      <td>Monthly</td>\n",
              "      <td>June/September</td>\n",
              "      <td>NaN</td>\n",
              "      <td>NaN</td>\n",
              "      <td>NaN</td>\n",
              "      <td>No</td>\n",
              "      <td>No</td>\n",
              "      <td>NaN</td>\n",
              "      <td>NaN</td>\n",
              "    </tr>\n",
              "    <tr>\n",
              "      <th>1</th>\n",
              "      <td>An Ultrastructural Investigation of Spermiogen...</td>\n",
              "      <td>1972.0</td>\n",
              "      <td>United States</td>\n",
              "      <td>NaN</td>\n",
              "      <td>NaN</td>\n",
              "      <td>NaN</td>\n",
              "      <td>NaN</td>\n",
              "      <td>Actiniidae</td>\n",
              "      <td>Bunodosoma cavernata</td>\n",
              "      <td>shallow</td>\n",
              "      <td>...</td>\n",
              "      <td>No</td>\n",
              "      <td>NaN</td>\n",
              "      <td>NaN</td>\n",
              "      <td>NaN</td>\n",
              "      <td>NaN</td>\n",
              "      <td>NaN</td>\n",
              "      <td>No</td>\n",
              "      <td>No</td>\n",
              "      <td>NaN</td>\n",
              "      <td>NaN</td>\n",
              "    </tr>\n",
              "    <tr>\n",
              "      <th>2</th>\n",
              "      <td>Trioecy, a Unique Breeding Strategy in the Sea...</td>\n",
              "      <td>2014.0</td>\n",
              "      <td>Israel</td>\n",
              "      <td>Temperate Northern Atlantic</td>\n",
              "      <td>Mediterranean Sea</td>\n",
              "      <td>NaN</td>\n",
              "      <td>NaN</td>\n",
              "      <td>Aiptasiidae</td>\n",
              "      <td>Aiptasia diaphana</td>\n",
              "      <td>shallow</td>\n",
              "      <td>...</td>\n",
              "      <td>Yes</td>\n",
              "      <td>Other</td>\n",
              "      <td>NaN</td>\n",
              "      <td>NaN</td>\n",
              "      <td>NaN</td>\n",
              "      <td>slide</td>\n",
              "      <td>Yes</td>\n",
              "      <td>Yes</td>\n",
              "      <td>Kruger and Schleyer</td>\n",
              "      <td>NaN</td>\n",
              "    </tr>\n",
              "    <tr>\n",
              "      <th>3</th>\n",
              "      <td>Seasonal Gametogenesis of Host Sea Anemone (En...</td>\n",
              "      <td>2015.0</td>\n",
              "      <td>China</td>\n",
              "      <td>Central Indo-Pacific</td>\n",
              "      <td>South China Sea</td>\n",
              "      <td>22°24 '7\" N</td>\n",
              "      <td>114°23'11\"E</td>\n",
              "      <td>Actiniidae</td>\n",
              "      <td>Entacmaea quadricolor</td>\n",
              "      <td>shallow</td>\n",
              "      <td>...</td>\n",
              "      <td>Yes</td>\n",
              "      <td>Monthly</td>\n",
              "      <td>NaN</td>\n",
              "      <td>September /October</td>\n",
              "      <td>NaN</td>\n",
              "      <td>NaN</td>\n",
              "      <td>No</td>\n",
              "      <td>Yes</td>\n",
              "      <td>Scott and Harrison 2009</td>\n",
              "      <td>Temperature</td>\n",
              "    </tr>\n",
              "    <tr>\n",
              "      <th>4</th>\n",
              "      <td>Genetic subdivision in the subtidal, clonal se...</td>\n",
              "      <td>1996.0</td>\n",
              "      <td>Australia</td>\n",
              "      <td>Temperate Australasia</td>\n",
              "      <td>Southeast Australian Shelf</td>\n",
              "      <td>34°30S</td>\n",
              "      <td>150°55E</td>\n",
              "      <td>Sagartiidae</td>\n",
              "      <td>Anthothoe albocincta</td>\n",
              "      <td>shallow</td>\n",
              "      <td>...</td>\n",
              "      <td>Yes</td>\n",
              "      <td>Monthly</td>\n",
              "      <td>March/April</td>\n",
              "      <td>March/April</td>\n",
              "      <td>100.0</td>\n",
              "      <td>slide</td>\n",
              "      <td>No</td>\n",
              "      <td>No</td>\n",
              "      <td>NaN</td>\n",
              "      <td>NaN</td>\n",
              "    </tr>\n",
              "  </tbody>\n",
              "</table>\n",
              "<p>5 rows × 23 columns</p>\n",
              "</div>\n",
              "      <button class=\"colab-df-convert\" onclick=\"convertToInteractive('df-24e214ba-7b1b-4ce4-a8b9-18608f9054ba')\"\n",
              "              title=\"Convert this dataframe to an interactive table.\"\n",
              "              style=\"display:none;\">\n",
              "        \n",
              "  <svg xmlns=\"http://www.w3.org/2000/svg\" height=\"24px\"viewBox=\"0 0 24 24\"\n",
              "       width=\"24px\">\n",
              "    <path d=\"M0 0h24v24H0V0z\" fill=\"none\"/>\n",
              "    <path d=\"M18.56 5.44l.94 2.06.94-2.06 2.06-.94-2.06-.94-.94-2.06-.94 2.06-2.06.94zm-11 1L8.5 8.5l.94-2.06 2.06-.94-2.06-.94L8.5 2.5l-.94 2.06-2.06.94zm10 10l.94 2.06.94-2.06 2.06-.94-2.06-.94-.94-2.06-.94 2.06-2.06.94z\"/><path d=\"M17.41 7.96l-1.37-1.37c-.4-.4-.92-.59-1.43-.59-.52 0-1.04.2-1.43.59L10.3 9.45l-7.72 7.72c-.78.78-.78 2.05 0 2.83L4 21.41c.39.39.9.59 1.41.59.51 0 1.02-.2 1.41-.59l7.78-7.78 2.81-2.81c.8-.78.8-2.07 0-2.86zM5.41 20L4 18.59l7.72-7.72 1.47 1.35L5.41 20z\"/>\n",
              "  </svg>\n",
              "      </button>\n",
              "      \n",
              "  <style>\n",
              "    .colab-df-container {\n",
              "      display:flex;\n",
              "      flex-wrap:wrap;\n",
              "      gap: 12px;\n",
              "    }\n",
              "\n",
              "    .colab-df-convert {\n",
              "      background-color: #E8F0FE;\n",
              "      border: none;\n",
              "      border-radius: 50%;\n",
              "      cursor: pointer;\n",
              "      display: none;\n",
              "      fill: #1967D2;\n",
              "      height: 32px;\n",
              "      padding: 0 0 0 0;\n",
              "      width: 32px;\n",
              "    }\n",
              "\n",
              "    .colab-df-convert:hover {\n",
              "      background-color: #E2EBFA;\n",
              "      box-shadow: 0px 1px 2px rgba(60, 64, 67, 0.3), 0px 1px 3px 1px rgba(60, 64, 67, 0.15);\n",
              "      fill: #174EA6;\n",
              "    }\n",
              "\n",
              "    [theme=dark] .colab-df-convert {\n",
              "      background-color: #3B4455;\n",
              "      fill: #D2E3FC;\n",
              "    }\n",
              "\n",
              "    [theme=dark] .colab-df-convert:hover {\n",
              "      background-color: #434B5C;\n",
              "      box-shadow: 0px 1px 3px 1px rgba(0, 0, 0, 0.15);\n",
              "      filter: drop-shadow(0px 1px 2px rgba(0, 0, 0, 0.3));\n",
              "      fill: #FFFFFF;\n",
              "    }\n",
              "  </style>\n",
              "\n",
              "      <script>\n",
              "        const buttonEl =\n",
              "          document.querySelector('#df-24e214ba-7b1b-4ce4-a8b9-18608f9054ba button.colab-df-convert');\n",
              "        buttonEl.style.display =\n",
              "          google.colab.kernel.accessAllowed ? 'block' : 'none';\n",
              "\n",
              "        async function convertToInteractive(key) {\n",
              "          const element = document.querySelector('#df-24e214ba-7b1b-4ce4-a8b9-18608f9054ba');\n",
              "          const dataTable =\n",
              "            await google.colab.kernel.invokeFunction('convertToInteractive',\n",
              "                                                     [key], {});\n",
              "          if (!dataTable) return;\n",
              "\n",
              "          const docLinkHtml = 'Like what you see? Visit the ' +\n",
              "            '<a target=\"_blank\" href=https://colab.research.google.com/notebooks/data_table.ipynb>data table notebook</a>'\n",
              "            + ' to learn more about interactive tables.';\n",
              "          element.innerHTML = '';\n",
              "          dataTable['output_type'] = 'display_data';\n",
              "          await google.colab.output.renderOutput(dataTable, element);\n",
              "          const docLink = document.createElement('div');\n",
              "          docLink.innerHTML = docLinkHtml;\n",
              "          element.appendChild(docLink);\n",
              "        }\n",
              "      </script>\n",
              "    </div>\n",
              "  </div>\n",
              "  "
            ]
          },
          "metadata": {},
          "execution_count": 2
        }
      ]
    },
    {
      "cell_type": "markdown",
      "source": [
        "## Types of dada in each column:"
      ],
      "metadata": {
        "id": "mj0zHmockA0Z"
      }
    },
    {
      "cell_type": "code",
      "source": [
        "planilha.dtypes"
      ],
      "metadata": {
        "colab": {
          "base_uri": "https://localhost:8080/"
        },
        "id": "kyb6a8qng7Kc",
        "outputId": "66f791d5-7922-4397-9dd2-1e74e3e81be3"
      },
      "execution_count": 3,
      "outputs": [
        {
          "output_type": "execute_result",
          "data": {
            "text/plain": [
              "title                     object\n",
              "year                     float64\n",
              "country                   object\n",
              "realm                     object\n",
              "province                  object\n",
              "lat                       object\n",
              "long                      object\n",
              "family                    object\n",
              "species                   object\n",
              "depth                     object\n",
              "gamete                    object\n",
              "histology                 object\n",
              "tempsal                   object\n",
              "field_work                object\n",
              "periodicity               object\n",
              "femepeak                  object\n",
              "malepeak                  object\n",
              "largoocy                 float64\n",
              "fixation                  object\n",
              "hermaphro                 object\n",
              "spermclass                object\n",
              "type_spermclass           object\n",
              "environment_influence     object\n",
              "dtype: object"
            ]
          },
          "metadata": {},
          "execution_count": 3
        }
      ]
    },
    {
      "cell_type": "markdown",
      "source": [
        "## Table shape:"
      ],
      "metadata": {
        "id": "2egoJ-Z9j2H0"
      }
    },
    {
      "cell_type": "code",
      "source": [
        "planilha.shape"
      ],
      "metadata": {
        "colab": {
          "base_uri": "https://localhost:8080/"
        },
        "id": "Ecj8sGnohVMl",
        "outputId": "9695ebbb-7a21-4fde-f16e-4d5f97a19328"
      },
      "execution_count": null,
      "outputs": [
        {
          "output_type": "execute_result",
          "data": {
            "text/plain": [
              "(83, 23)"
            ]
          },
          "metadata": {},
          "execution_count": 5
        }
      ]
    },
    {
      "cell_type": "markdown",
      "source": [
        "## Information on the type of data in each column and the number of non-nule values"
      ],
      "metadata": {
        "id": "cCcQ_IsTthF9"
      }
    },
    {
      "cell_type": "code",
      "source": [
        "planilha.info()"
      ],
      "metadata": {
        "colab": {
          "base_uri": "https://localhost:8080/"
        },
        "id": "WmMi5Sbukg0u",
        "outputId": "ee0dd0be-3b0d-48cc-8030-395870b7c6fe"
      },
      "execution_count": null,
      "outputs": [
        {
          "output_type": "stream",
          "name": "stdout",
          "text": [
            "<class 'pandas.core.frame.DataFrame'>\n",
            "RangeIndex: 83 entries, 0 to 82\n",
            "Data columns (total 23 columns):\n",
            " #   Column                 Non-Null Count  Dtype  \n",
            "---  ------                 --------------  -----  \n",
            " 0   title                  65 non-null     object \n",
            " 1   year                   65 non-null     float64\n",
            " 2   country                65 non-null     object \n",
            " 3   realm                  54 non-null     object \n",
            " 4   province               54 non-null     object \n",
            " 5   lat                    31 non-null     object \n",
            " 6   long                   30 non-null     object \n",
            " 7   family                 83 non-null     object \n",
            " 8   species                83 non-null     object \n",
            " 9   depth                  83 non-null     object \n",
            " 10  gamete                 83 non-null     object \n",
            " 11  histology              65 non-null     object \n",
            " 12  tempsal                65 non-null     object \n",
            " 13  field_work             65 non-null     object \n",
            " 14  periodicity            51 non-null     object \n",
            " 15  femepeak               49 non-null     object \n",
            " 16  malepeak               37 non-null     object \n",
            " 17  largoocy               43 non-null     float64\n",
            " 18  fixation               52 non-null     object \n",
            " 19  hermaphro              83 non-null     object \n",
            " 20  spermclass             65 non-null     object \n",
            " 21  type_spermclass        19 non-null     object \n",
            " 22  environment_influence  19 non-null     object \n",
            "dtypes: float64(2), object(21)\n",
            "memory usage: 15.0+ KB\n"
          ]
        }
      ]
    },
    {
      "cell_type": "markdown",
      "source": [
        "## Number of unique species studied (diversity):"
      ],
      "metadata": {
        "id": "fW6nFQI2sB2u"
      }
    },
    {
      "cell_type": "code",
      "source": [
        "especies = planilha['species'].unique()\n",
        "print(len(especies))"
      ],
      "metadata": {
        "id": "uN1hwSKsqUOp",
        "colab": {
          "base_uri": "https://localhost:8080/"
        },
        "outputId": "bbbb8ad7-48c1-4bed-d2a6-b89d76fe99f9"
      },
      "execution_count": 8,
      "outputs": [
        {
          "output_type": "stream",
          "name": "stdout",
          "text": [
            "48\n"
          ]
        }
      ]
    },
    {
      "cell_type": "markdown",
      "source": [
        "## Total number of species studied (registers):"
      ],
      "metadata": {
        "id": "2sM455g9xT-j"
      }
    },
    {
      "cell_type": "code",
      "source": [
        "especies = planilha['species'].value_counts()\n",
        "print(especies)\n"
      ],
      "metadata": {
        "colab": {
          "base_uri": "https://localhost:8080/"
        },
        "id": "Sh_8oJzTxYTE",
        "outputId": "5fe242a3-b3c1-4ebc-a2de-1bab0324bcfb"
      },
      "execution_count": 14,
      "outputs": [
        {
          "output_type": "stream",
          "name": "stdout",
          "text": [
            "Actinia equina                5\n",
            "Actinia fragacea              5\n",
            "Metridium senile              4\n",
            "Nematostella vectensis        4\n",
            "Bunodosoma cavernata          4\n",
            "Anthopleura elegantissima     3\n",
            "Exaiptasia pallida            3\n",
            "Aiptasia diaphana             3\n",
            "Actinia tenebrosa             3\n",
            "Entacmaea quadricolor         2\n",
            "Condylactis gigantea          2\n",
            "Sagartia troglodites          2\n",
            "Cereus pedunculatus           2\n",
            "Diadumene lineata             2\n",
            "Protanthea simplex            2\n",
            "Anemonia sulcata              2\n",
            "Gonactinia  prolifera         2\n",
            "Aiptasia pulchella            2\n",
            "Epiactis prolifera            2\n",
            "Urticina lofotensis           1\n",
            "Sagartia elegans              1\n",
            "Actinoporus elongatus         1\n",
            "Glandulactis spetbergensis    1\n",
            "Phymanthus punnulatus         1\n",
            "Phymanthus strandesi          1\n",
            "Actinia bermudensis           1\n",
            "Anthopleura xanthogrammica    1\n",
            "Epiactis lisbethae            1\n",
            "Cribrinopsis fernaldi         1\n",
            "Amphianthus dorhni            1\n",
            "Aulactinia sinensis           1\n",
            "Tricnidactis errans           1\n",
            "Anthopleura dixoniana         1\n",
            "Epiactis georgiana            1\n",
            "Paracalliactis stephensoni    1\n",
            "Phelliactis robusta           1\n",
            "Phelliactis hertwig           1\n",
            "Calliactis parasitica         1\n",
            "Allantactis parasitica        1\n",
            "Phymanthus crucifer           1\n",
            "Bartholomea annulata          1\n",
            "Anthopleura asiatica          1\n",
            "Anthopleura handii            1\n",
            "Anemonia viridis              1\n",
            "Kadosactis commensalis        1\n",
            "Amphianthus inornata          1\n",
            "Anthothoe albocincta          1\n",
            "Utricina crassicornis         1\n",
            "Name: species, dtype: int64\n"
          ]
        }
      ]
    },
    {
      "cell_type": "markdown",
      "source": [
        "## Number of times species were studied"
      ],
      "metadata": {
        "id": "lt4sMBPP7v-n"
      }
    },
    {
      "cell_type": "code",
      "source": [
        "especies = planilha['species'].value_counts(sort=False)\n",
        "print(especies)"
      ],
      "metadata": {
        "colab": {
          "base_uri": "https://localhost:8080/"
        },
        "id": "pZ-aLfwlytb0",
        "outputId": "115b2187-0473-4ab1-ba03-2eacdecdce18"
      },
      "execution_count": 7,
      "outputs": [
        {
          "output_type": "stream",
          "name": "stdout",
          "text": [
            "Metridium senile              4\n",
            "Bunodosoma cavernata          4\n",
            "Aiptasia diaphana             3\n",
            "Entacmaea quadricolor         2\n",
            "Anthothoe albocincta          1\n",
            "Amphianthus inornata          1\n",
            "Kadosactis commensalis        1\n",
            "Exaiptasia pallida            3\n",
            "Actinia equina                5\n",
            "Aiptasia pulchella            2\n",
            "Gonactinia  prolifera         2\n",
            "Anthopleura elegantissima     3\n",
            "Anemonia viridis              1\n",
            "Actinia tenebrosa             3\n",
            "Epiactis prolifera            2\n",
            "Nematostella vectensis        4\n",
            "Anthopleura handii            1\n",
            "Diadumene lineata             2\n",
            "Anthopleura asiatica          1\n",
            "Sagartia troglodites          2\n",
            "Actinia fragacea              5\n",
            "Condylactis gigantea          2\n",
            "Bartholomea annulata          1\n",
            "Phymanthus crucifer           1\n",
            "Anthopleura dixoniana         1\n",
            "Allantactis parasitica        1\n",
            "Protanthea simplex            2\n",
            "Calliactis parasitica         1\n",
            "Phelliactis hertwig           1\n",
            "Phelliactis robusta           1\n",
            "Paracalliactis stephensoni    1\n",
            "Epiactis georgiana            1\n",
            "Anthopleura xanthogrammica    1\n",
            "Tricnidactis errans           1\n",
            "Glandulactis spetbergensis    1\n",
            "Anemonia sulcata              2\n",
            "Urticina lofotensis           1\n",
            "Sagartia elegans              1\n",
            "Cereus pedunculatus           2\n",
            "Actinoporus elongatus         1\n",
            "Phymanthus strandesi          1\n",
            "Actinia bermudensis           1\n",
            "Phymanthus punnulatus         1\n",
            "Epiactis lisbethae            1\n",
            "Cribrinopsis fernaldi         1\n",
            "Amphianthus dorhni            1\n",
            "Aulactinia sinensis           1\n",
            "Utricina crassicornis         1\n",
            "Name: species, dtype: int64\n"
          ]
        }
      ]
    },
    {
      "cell_type": "markdown",
      "source": [
        "## Species by family"
      ],
      "metadata": {
        "id": "PVNN0K9ZsE-b"
      }
    },
    {
      "cell_type": "code",
      "source": [
        "familia = planilha[['family', 'species']].value_counts().sort_index()\n",
        "print(familia)"
      ],
      "metadata": {
        "colab": {
          "base_uri": "https://localhost:8080/"
        },
        "id": "_9g7Es0msEt9",
        "outputId": "30c063e0-403e-4f3a-89c4-6e3f555faded"
      },
      "execution_count": null,
      "outputs": [
        {
          "output_type": "stream",
          "name": "stdout",
          "text": [
            "family          species                   \n",
            "Actiniidae      Actinia bermudensis           1\n",
            "                Actinia equina                5\n",
            "                Actinia fragacea              5\n",
            "                Actinia tenebrosa             3\n",
            "                Anemonia sulcata              2\n",
            "                Anemonia viridis              1\n",
            "                Anthopleura asiatica          1\n",
            "                Anthopleura dixoniana         1\n",
            "                Anthopleura elegantissima     3\n",
            "                Anthopleura handii            1\n",
            "                Anthopleura xanthogrammica    1\n",
            "                Aulactinia sinensis           1\n",
            "                Bunodosoma cavernata          4\n",
            "                Condylactis gigantea          2\n",
            "                Cribrinopsis fernaldi         1\n",
            "                Entacmaea quadricolor         2\n",
            "                Epiactis georgiana            1\n",
            "                Epiactis lisbethae            1\n",
            "                Epiactis prolifera            2\n",
            "                Urticina lofotensis           1\n",
            "                Utricina crassicornis         1\n",
            "Actinostolidae  Glandulactis spetbergensis    1\n",
            "Aiptasiidae     Aiptasia diaphana             3\n",
            "                Aiptasia pulchella            2\n",
            "                Bartholomea annulata          1\n",
            "                Exaiptasia pallida            3\n",
            "Amphianthidae   Amphianthus dorhni            1\n",
            "                Amphianthus inornata          1\n",
            "Capneidae       Actinoporus elongatus         1\n",
            "Diadumeniidae   Diadumene lineata             2\n",
            "Edwardsiidae    Nematostella vectensis        4\n",
            "Gonactiniidae   Gonactinia  prolifera         2\n",
            "                Protanthea simplex            2\n",
            "Hormathiidae    Allantactis parasitica        1\n",
            "                Calliactis parasitica         1\n",
            "                Paracalliactis stephensoni    1\n",
            "                Phelliactis hertwig           1\n",
            "                Phelliactis robusta           1\n",
            "Incertae sedis  Tricnidactis errans           1\n",
            "Kadosactinidae  Kadosactis commensalis        1\n",
            "Metridiidae     Metridium senile              4\n",
            "Phymanthidae    Phymanthus crucifer           1\n",
            "                Phymanthus punnulatus         1\n",
            "                Phymanthus strandesi          1\n",
            "Sargatiidae     Anthothoe albocincta          1\n",
            "                Cereus pedunculatus           2\n",
            "                Sagartia elegans              1\n",
            "                Sagartia troglodites          2\n",
            "dtype: int64\n"
          ]
        }
      ]
    },
    {
      "cell_type": "markdown",
      "source": [
        "## Number of studies by family per year"
      ],
      "metadata": {
        "id": "ufDCcf0b7nhr"
      }
    },
    {
      "cell_type": "code",
      "source": [
        "familia = planilha[['family', 'year']].value_counts().sort_index()\n",
        "print(familia)"
      ],
      "metadata": {
        "colab": {
          "base_uri": "https://localhost:8080/"
        },
        "id": "e_Q049Dl1jGp",
        "outputId": "1a245d24-faaa-4bdf-e44f-ce05141ee78b"
      },
      "execution_count": null,
      "outputs": [
        {
          "output_type": "stream",
          "name": "stdout",
          "text": [
            "family          year  \n",
            "Actiniidae      1964.0    1\n",
            "                1970.0    1\n",
            "                1971.0    1\n",
            "                1972.0    1\n",
            "                1974.0    1\n",
            "                1975.0    1\n",
            "                1976.0    1\n",
            "                1979.0    3\n",
            "                1981.0    3\n",
            "                1982.0    3\n",
            "                1983.0    2\n",
            "                1984.0    4\n",
            "                1989.0    1\n",
            "                1991.0    1\n",
            "                1992.0    1\n",
            "                1995.0    1\n",
            "                1996.0    1\n",
            "                2007.0    1\n",
            "                2009.0    1\n",
            "                2013.0    1\n",
            "                2015.0    2\n",
            "                2019.0    1\n",
            "                2021.0    1\n",
            "                2022.0    1\n",
            "                2023.0    1\n",
            "Actinostolidae  1976.0    1\n",
            "Aiptasiidae     1980.0    1\n",
            "                2008.0    1\n",
            "                2010.0    1\n",
            "                2014.0    1\n",
            "                2016.0    1\n",
            "Amphianthidae   1991.0    1\n",
            "                1993.0    1\n",
            "Capneidae       1992.0    1\n",
            "Diadumeniidae   1995.0    1\n",
            "Edwardsiidae    1976.0    1\n",
            "                1992.0    1\n",
            "                2008.0    1\n",
            "                2017.0    1\n",
            "Gonactiniidae   1975.0    1\n",
            "                1989.0    1\n",
            "Hormathiidae    1990.0    2\n",
            "                2009.0    1\n",
            "Incertae sedis  1995.0    1\n",
            "Metridiidae     1982.0    1\n",
            "                1994.0    1\n",
            "                2010.0    1\n",
            "Phymanthidae    2001.0    1\n",
            "                2021.0    1\n",
            "Sargatiidae     1981.0    1\n",
            "                1989.0    1\n",
            "                1991.0    1\n",
            "                1996.0    1\n",
            "dtype: int64\n"
          ]
        }
      ]
    },
    {
      "cell_type": "markdown",
      "source": [
        "## Number of studies that had field work:"
      ],
      "metadata": {
        "id": "Us4cRFOsGKrm"
      }
    },
    {
      "cell_type": "code",
      "source": [
        "planilha['field_work'].value_counts()"
      ],
      "metadata": {
        "colab": {
          "base_uri": "https://localhost:8080/"
        },
        "id": "qtQFxTIqGRbT",
        "outputId": "c82dfeb5-4999-46ee-d256-eb2d7aea166e"
      },
      "execution_count": null,
      "outputs": [
        {
          "output_type": "execute_result",
          "data": {
            "text/plain": [
              "Yes    51\n",
              "No     14\n",
              "Name: field_work, dtype: int64"
            ]
          },
          "metadata": {},
          "execution_count": 100
        }
      ]
    },
    {
      "cell_type": "markdown",
      "source": [
        "## Sample periodicity\n"
      ],
      "metadata": {
        "id": "qK2ldMmTjLBb"
      }
    },
    {
      "cell_type": "code",
      "source": [
        "planilha['periodicity'].value_counts()"
      ],
      "metadata": {
        "colab": {
          "base_uri": "https://localhost:8080/"
        },
        "id": "lDpmPMEYiJ-z",
        "outputId": "4cab828c-0d51-4ecb-b9fb-683a07a91c34"
      },
      "execution_count": null,
      "outputs": [
        {
          "output_type": "execute_result",
          "data": {
            "text/plain": [
              "Monthly    37\n",
              "Other      14\n",
              "Name: periodicity, dtype: int64"
            ]
          },
          "metadata": {},
          "execution_count": 101
        }
      ]
    },
    {
      "cell_type": "markdown",
      "source": [
        "## Type of reproductive tissue studied:"
      ],
      "metadata": {
        "id": "ZVJMeDk6vnnr"
      }
    },
    {
      "cell_type": "code",
      "source": [
        "planilha['gamete'].value_counts().sort_index()"
      ],
      "metadata": {
        "id": "Kfp9BGNZvA05",
        "colab": {
          "base_uri": "https://localhost:8080/"
        },
        "outputId": "9bb779cb-f43c-41d3-8c50-8c881d7416ec"
      },
      "execution_count": null,
      "outputs": [
        {
          "output_type": "execute_result",
          "data": {
            "text/plain": [
              "Oocyte                   19\n",
              "Oocyte and Spermaries    55\n",
              "Spermaries                9\n",
              "Name: gamete, dtype: int64"
            ]
          },
          "metadata": {},
          "execution_count": 102
        }
      ]
    },
    {
      "cell_type": "markdown",
      "source": [
        "## Sampling of temperature and salinity:"
      ],
      "metadata": {
        "id": "Km4QHacc4PsC"
      }
    },
    {
      "cell_type": "code",
      "source": [
        "planilha['tempsal'].value_counts().sort_index()"
      ],
      "metadata": {
        "colab": {
          "base_uri": "https://localhost:8080/"
        },
        "id": "aLyd1CjV4V4N",
        "outputId": "fd367c78-400e-484b-dcf6-09ef9b853542"
      },
      "execution_count": null,
      "outputs": [
        {
          "output_type": "execute_result",
          "data": {
            "text/plain": [
              "No     45\n",
              "Yes    20\n",
              "Name: tempsal, dtype: int64"
            ]
          },
          "metadata": {},
          "execution_count": 113
        }
      ]
    },
    {
      "cell_type": "markdown",
      "source": [
        "## Studies that have used some spermatic cyst classification:"
      ],
      "metadata": {
        "id": "UOCFhZY1wMid"
      }
    },
    {
      "cell_type": "code",
      "source": [
        "planilha['spermclass'].value_counts()"
      ],
      "metadata": {
        "id": "A7J3r6X-vw05",
        "colab": {
          "base_uri": "https://localhost:8080/"
        },
        "outputId": "5d2c2442-5048-49c6-b48a-f148241806be"
      },
      "execution_count": null,
      "outputs": [
        {
          "output_type": "execute_result",
          "data": {
            "text/plain": [
              "No     46\n",
              "Yes    19\n",
              "Name: spermclass, dtype: int64"
            ]
          },
          "metadata": {},
          "execution_count": 104
        }
      ]
    },
    {
      "cell_type": "markdown",
      "source": [
        "## Most used spermatic cyst classification:"
      ],
      "metadata": {
        "id": "yk3hthu017hS"
      }
    },
    {
      "cell_type": "code",
      "source": [
        "planilha['type_spermclass'].value_counts()"
      ],
      "metadata": {
        "colab": {
          "base_uri": "https://localhost:8080/"
        },
        "id": "Ni62CC9N1_07",
        "outputId": "b07cb8e0-01e7-4da5-afeb-ab7e943532d4"
      },
      "execution_count": null,
      "outputs": [
        {
          "output_type": "execute_result",
          "data": {
            "text/plain": [
              "Carter & Miles 1989        2\n",
              "Jannison 1979              2\n",
              "Wedi & Dunn 1983           2\n",
              "Kruger and Schleyer        1\n",
              "Scott and Harrison 2009    1\n",
              "Shawn 1989                 1\n",
              "Buckling 1982              1\n",
              "Fukui, 1995                1\n",
              "Lin et al. 1992            1\n",
              "Lombardi & Lesser, 2010    1\n",
              "Sebens, 1981               1\n",
              "Scott & Harrison 2009      1\n",
              "Sheridan & Fautin 2015     1\n",
              "Bucklin, 1979              1\n",
              "Lin et al. 2001            1\n",
              "Sheridan et al 2015        1\n",
              "Name: type_spermclass, dtype: int64"
            ]
          },
          "metadata": {},
          "execution_count": 105
        }
      ]
    },
    {
      "cell_type": "markdown",
      "source": [
        "## Use of some microanatomic method:"
      ],
      "metadata": {
        "id": "GtQ9xGvFA_9R"
      }
    },
    {
      "cell_type": "code",
      "source": [
        "planilha['histology'].value_counts()"
      ],
      "metadata": {
        "colab": {
          "base_uri": "https://localhost:8080/"
        },
        "id": "s2NSDTM6BFaz",
        "outputId": "476bddad-1673-4cc2-93ca-95f37eae055d"
      },
      "execution_count": null,
      "outputs": [
        {
          "output_type": "execute_result",
          "data": {
            "text/plain": [
              "Yes    57\n",
              "No      8\n",
              "Name: histology, dtype: int64"
            ]
          },
          "metadata": {},
          "execution_count": 106
        }
      ]
    },
    {
      "cell_type": "markdown",
      "source": [
        "## Mention of the presence of hermaphrodites in each species register: "
      ],
      "metadata": {
        "id": "lyjsXsmb8-7f"
      }
    },
    {
      "cell_type": "code",
      "source": [
        "planilha['hermaphro'].value_counts()"
      ],
      "metadata": {
        "colab": {
          "base_uri": "https://localhost:8080/"
        },
        "id": "q_PGe6X29EPh",
        "outputId": "c9795f89-2120-4780-ad77-8d834bb5cb5d"
      },
      "execution_count": null,
      "outputs": [
        {
          "output_type": "execute_result",
          "data": {
            "text/plain": [
              "No     66\n",
              "Yes    17\n",
              "Name: hermaphro, dtype: int64"
            ]
          },
          "metadata": {},
          "execution_count": 107
        }
      ]
    },
    {
      "cell_type": "markdown",
      "source": [
        "## Hermaphrodites per family and species:"
      ],
      "metadata": {
        "id": "P9KN-zdr_AbT"
      }
    },
    {
      "cell_type": "code",
      "source": [
        "planilha[['family','species','hermaphro']].value_counts().sort_index()"
      ],
      "metadata": {
        "colab": {
          "base_uri": "https://localhost:8080/"
        },
        "id": "EnffCSGX_Eh-",
        "outputId": "8d0a1846-44c8-4935-8e73-98c8c6a50d41"
      },
      "execution_count": null,
      "outputs": [
        {
          "output_type": "execute_result",
          "data": {
            "text/plain": [
              "family          species                     hermaphro\n",
              "Actiniidae      Actinia bermudensis         No           1\n",
              "                Actinia equina              No           3\n",
              "                                            Yes          2\n",
              "                Actinia fragacea            No           5\n",
              "                Actinia tenebrosa           No           3\n",
              "                Anemonia sulcata            No           2\n",
              "                Anemonia viridis            No           1\n",
              "                Anthopleura asiatica        No           1\n",
              "                Anthopleura dixoniana       No           1\n",
              "                Anthopleura elegantissima   No           2\n",
              "                                            Yes          1\n",
              "                Anthopleura handii          Yes          1\n",
              "                Anthopleura xanthogrammica  No           1\n",
              "                Aulactinia sinensis         No           1\n",
              "                Bunodosoma cavernata        No           3\n",
              "                                            Yes          1\n",
              "                Condylactis gigantea        Yes          2\n",
              "                Cribrinopsis fernaldi       No           1\n",
              "                Entacmaea quadricolor       No           2\n",
              "                Epiactis georgiana          Yes          1\n",
              "                Epiactis lisbethae          Yes          1\n",
              "                Epiactis prolifera          Yes          2\n",
              "                Urticina lofotensis         No           1\n",
              "                Utricina crassicornis       No           1\n",
              "Actinostolidae  Glandulactis spetbergensis  No           1\n",
              "Aiptasiidae     Aiptasia diaphana           No           1\n",
              "                                            Yes          2\n",
              "                Aiptasia pulchella          No           2\n",
              "                Bartholomea annulata        Yes          1\n",
              "                Exaiptasia pallida          No           3\n",
              "Amphianthidae   Amphianthus dorhni          No           1\n",
              "                Amphianthus inornata        No           1\n",
              "Capneidae       Actinoporus elongatus       No           1\n",
              "Diadumeniidae   Diadumene lineata           No           2\n",
              "Edwardsiidae    Nematostella vectensis      No           4\n",
              "Gonactiniidae   Gonactinia  prolifera       No           2\n",
              "                Protanthea simplex          No           2\n",
              "Hormathiidae    Allantactis parasitica      No           1\n",
              "                Calliactis parasitica       No           1\n",
              "                Paracalliactis stephensoni  Yes          1\n",
              "                Phelliactis hertwig         No           1\n",
              "                Phelliactis robusta         No           1\n",
              "Incertae sedis  Tricnidactis errans         No           1\n",
              "Kadosactinidae  Kadosactis commensalis      Yes          1\n",
              "Metridiidae     Metridium senile            No           4\n",
              "Phymanthidae    Phymanthus crucifer         No           1\n",
              "                Phymanthus punnulatus       No           1\n",
              "                Phymanthus strandesi        No           1\n",
              "Sargatiidae     Anthothoe albocincta        No           1\n",
              "                Cereus pedunculatus         No           1\n",
              "                                            Yes          1\n",
              "                Sagartia elegans            No           1\n",
              "                Sagartia troglodites        No           2\n",
              "dtype: int64"
            ]
          },
          "metadata": {},
          "execution_count": 108
        }
      ]
    },
    {
      "cell_type": "markdown",
      "source": [
        "## Number of studies by country"
      ],
      "metadata": {
        "id": "GOFclQEMiwRa"
      }
    },
    {
      "cell_type": "code",
      "source": [
        "planilha['country'].value_counts()"
      ],
      "metadata": {
        "colab": {
          "base_uri": "https://localhost:8080/"
        },
        "id": "EAHqC0npicKa",
        "outputId": "34192ae8-8330-4c69-991b-63e0c09f3a00"
      },
      "execution_count": null,
      "outputs": [
        {
          "output_type": "execute_result",
          "data": {
            "text/plain": [
              "United States     21\n",
              "United Kingdom    10\n",
              "Australia          5\n",
              "Japan              3\n",
              "Israel             3\n",
              "Taiwan             3\n",
              "Sweden             2\n",
              "Germany            2\n",
              "France             2\n",
              "Canada             2\n",
              "China              2\n",
              "Malaysia           1\n",
              "Netherlands        1\n",
              "New Zeland         1\n",
              "Italy              1\n",
              "Argentina          1\n",
              "Spain              1\n",
              "Singapore          1\n",
              "Morroco            1\n",
              "Ireland            1\n",
              "Russia             1\n",
              "Name: country, dtype: int64"
            ]
          },
          "metadata": {},
          "execution_count": 112
        }
      ]
    },
    {
      "cell_type": "markdown",
      "source": [
        "## Studies for each Marine Realm"
      ],
      "metadata": {
        "id": "cJPguYcyOKm6"
      }
    },
    {
      "cell_type": "code",
      "source": [
        "planilha['realm'].value_counts(sort=False)"
      ],
      "metadata": {
        "colab": {
          "base_uri": "https://localhost:8080/"
        },
        "id": "qO5pPUmSN-Ky",
        "outputId": "26df0cb2-598d-4f9e-8c51-53470a621978"
      },
      "execution_count": null,
      "outputs": [
        {
          "output_type": "execute_result",
          "data": {
            "text/plain": [
              "Temperate Northern Atlantic    19\n",
              "Central Indo-Pacific            6\n",
              "Temperate Australasia           6\n",
              "Deep Sea                        7\n",
              "Temperate Northern Pacific     12\n",
              "Tropical Atlantic               3\n",
              "Temperate South America         1\n",
              "Name: realm, dtype: int64"
            ]
          },
          "metadata": {},
          "execution_count": 7
        }
      ]
    },
    {
      "cell_type": "markdown",
      "source": [
        "## Studies for each Marine Province"
      ],
      "metadata": {
        "id": "glGyh-vUONTD"
      }
    },
    {
      "cell_type": "code",
      "source": [
        "planilha['province'].value_counts(sort=False)"
      ],
      "metadata": {
        "id": "Qc6IVigyOAuW",
        "colab": {
          "base_uri": "https://localhost:8080/"
        },
        "outputId": "ed6b792d-8d34-4324-9fb8-940bb76de3a6"
      },
      "execution_count": null,
      "outputs": [
        {
          "output_type": "execute_result",
          "data": {
            "text/plain": [
              "Northern European Seas                  12\n",
              "Mediterranean Sea                        5\n",
              "South China Sea                          4\n",
              "Southeast Australian Shelf               2\n",
              "Deep Sea                                 7\n",
              "Cold Temperate Northeast Pacific         8\n",
              "West Central Australian Shelf            1\n",
              "Sunda Shelf                              2\n",
              "Cold Temperate Northwest Pacific         3\n",
              "Warm Temperate Northwest Atlantic        1\n",
              "Tropical Northwestern Atlantic           3\n",
              "Cold Temperate Northwest Atlantic        1\n",
              "Southern New Zealand                     1\n",
              "Warm Temperate Southwestern Atlantic     1\n",
              "East Central Australian Shelf            1\n",
              "Northeast Australian Shelf               1\n",
              "Warm Temperate Northwest Pacific         1\n",
              "Name: province, dtype: int64"
            ]
          },
          "metadata": {},
          "execution_count": 110
        }
      ]
    },
    {
      "cell_type": "code",
      "source": [
        "planilha[['species','malepeak']].value_counts().sort_index()\n"
      ],
      "metadata": {
        "colab": {
          "base_uri": "https://localhost:8080/"
        },
        "id": "FrTRcx8FRSlU",
        "outputId": "55bc15e9-21f8-49ca-bbd2-ddd566506e9d"
      },
      "execution_count": null,
      "outputs": [
        {
          "output_type": "execute_result",
          "data": {
            "text/plain": [
              "species                     malepeak                                                                                \n",
              "Actinia equina              July/August                                                                                 1\n",
              "                            June/July/August                                                                            1\n",
              "Actinia tenebrosa           December /January/February                                                                  2\n",
              "                            January/February/April                                                                      1\n",
              "Actinoporus elongatus       February                                                                                    1\n",
              "Aiptasia diaphana           April/May/June                                                                              1\n",
              "                            April/May/June/July/August                                                                  1\n",
              "Allantactis parasitica      March/April/May/June/July/August/September /October                                         1\n",
              "Anemonia sulcata            April                                                                                       1\n",
              "                            July/August/September                                                                       1\n",
              "Anemonia viridis            April/May/June                                                                              1\n",
              "Anthopleura asiatica        September /October                                                                          1\n",
              "Anthopleura dixoniana       July                                                                                        1\n",
              "Anthopleura elegantissima   July/August/September                                                                       1\n",
              "                            September /October                                                                          1\n",
              "                            September /October /November                                                                1\n",
              "Anthopleura xanthogrammica  August/September /October                                                                   1\n",
              "Anthothoe albocincta        March/April                                                                                 1\n",
              "Aulactinia sinensis         May/June/July                                                                               1\n",
              "Bartholomea annulata        December /May                                                                               1\n",
              "Bunodosoma cavernata        October /November                                                                           1\n",
              "Condylactis gigantea        June                                                                                        1\n",
              "                            May                                                                                         1\n",
              "Cribrinopsis fernaldi       March                                                                                       1\n",
              "Diadumene lineata           July/August                                                                                 1\n",
              "Entacmaea quadricolor       January/February/March/April                                                                1\n",
              "                            September /October                                                                          1\n",
              "Gonactinia  prolifera       June/October/November                                                                       1\n",
              "Metridium senile            August /September                                                                           1\n",
              "                            September /October/November                                                                 1\n",
              "Paracalliactis stephensoni  April/May                                                                                   1\n",
              "Phymanthus crucifer         February/March/May                                                                          1\n",
              "Phymanthus strandesi        January/February/March/April/May/June/July/August/September /October /November /December    1\n",
              "Sagartia elegans            June/July                                                                                   1\n",
              "Sagartia troglodites        February/March/April                                                                        1\n",
              "Urticina lofotensis         November /December                                                                          1\n",
              "dtype: int64"
            ]
          },
          "metadata": {},
          "execution_count": 10
        }
      ]
    }
  ]
}